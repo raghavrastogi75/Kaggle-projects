{
 "cells": [
  {
   "cell_type": "markdown",
   "id": "a38eb6f3",
   "metadata": {
    "papermill": {
     "duration": 0.033646,
     "end_time": "2022-02-07T02:52:48.415921",
     "exception": false,
     "start_time": "2022-02-07T02:52:48.382275",
     "status": "completed"
    },
    "tags": []
   },
   "source": [
    "<a id=\"toc_section\"></a>\n",
    "## Contents of this notebook\n",
    "\n",
    "[**Raghav Rastogi**](https://www.kaggle.com/raghavrastogi75) \n",
    "\n",
    "\n",
    "* [Importing the libraries](#1)\n",
    "* [Checking the Data folders](#2)\n",
    "* [Image Extraction](#3)\n",
    "* [Model Creation](#4)\n",
    "* [Validation and training accuracy plot](#5)\n",
    "* [Validation and training loss plot](#6)\n",
    "* [Prediction](#7)"
   ]
  },
  {
   "cell_type": "code",
   "execution_count": 1,
   "id": "688ac252",
   "metadata": {
    "_cell_guid": "b1076dfc-b9ad-4769-8c92-a6c4dae69d19",
    "_kg_hide-input": true,
    "_uuid": "8f2839f25d086af736a60e9eeb907d3b93b6e0e5",
    "execution": {
     "iopub.execute_input": "2022-02-07T02:52:48.456436Z",
     "iopub.status.busy": "2022-02-07T02:52:48.454984Z",
     "iopub.status.idle": "2022-02-07T02:53:57.916750Z",
     "shell.execute_reply": "2022-02-07T02:53:57.918006Z",
     "shell.execute_reply.started": "2022-01-31T23:49:18.395513Z"
    },
    "papermill": {
     "duration": 69.483976,
     "end_time": "2022-02-07T02:53:57.918465",
     "exception": false,
     "start_time": "2022-02-07T02:52:48.434489",
     "status": "completed"
    },
    "tags": []
   },
   "outputs": [],
   "source": [
    "# This Python 3 environment comes with many helpful analytics libraries installed\n",
    "# It is defined by the kaggle/python Docker image: https://github.com/kaggle/docker-python\n",
    "# For example, here's several helpful packages to load\n",
    "\n",
    "import numpy as np # linear algebra\n",
    "import pandas as pd # data processing, CSV file I/O (e.g. pd.read_csv)\n",
    "\n",
    "# Input data files are available in the read-only \"../input/\" directory\n",
    "# For example, running this (by clicking run or pressing Shift+Enter) will list all files under the input directory\n",
    "\n",
    "import os\n",
    "for dirname, _, filenames in os.walk('/kaggle/input'):\n",
    "    for filename in filenames:\n",
    "        os.path.join(dirname, filename)\n",
    "\n",
    "# You can write up to 20GB to the current directory (/kaggle/working/) that gets preserved as output when you create a version using \"Save & Run All\" \n",
    "# You can also write temporary files to /kaggle/temp/, but they won't be saved outside of the current session"
   ]
  },
  {
   "cell_type": "markdown",
   "id": "c6282dc0",
   "metadata": {
    "papermill": {
     "duration": 0.030108,
     "end_time": "2022-02-07T02:53:57.992415",
     "exception": false,
     "start_time": "2022-02-07T02:53:57.962307",
     "status": "completed"
    },
    "tags": []
   },
   "source": [
    "# Importing the libraries <span id=\"1\"></span>"
   ]
  },
  {
   "cell_type": "code",
   "execution_count": 2,
   "id": "109da06a",
   "metadata": {
    "execution": {
     "iopub.execute_input": "2022-02-07T02:53:58.066614Z",
     "iopub.status.busy": "2022-02-07T02:53:58.065734Z",
     "iopub.status.idle": "2022-02-07T02:54:03.990756Z",
     "shell.execute_reply": "2022-02-07T02:54:03.990257Z",
     "shell.execute_reply.started": "2022-01-31T23:49:52.090788Z"
    },
    "papermill": {
     "duration": 5.963206,
     "end_time": "2022-02-07T02:54:03.990898",
     "exception": false,
     "start_time": "2022-02-07T02:53:58.027692",
     "status": "completed"
    },
    "tags": []
   },
   "outputs": [],
   "source": [
    "import os\n",
    "import cv2                  \n",
    "import numpy as np  \n",
    "from tqdm import tqdm\n",
    "import os                   \n",
    "from random import shuffle  \n",
    "from zipfile import ZipFile\n",
    "from PIL import Image\n",
    "from sklearn.model_selection import train_test_split\n",
    "from keras.preprocessing.image import ImageDataGenerator\n",
    "\n",
    "from sklearn.model_selection import train_test_split\n",
    "from sklearn.model_selection import KFold\n",
    "from sklearn.metrics import accuracy_score,precision_score,recall_score,confusion_matrix,roc_curve,roc_auc_score\n",
    "from sklearn.model_selection import GridSearchCV\n",
    "from sklearn.preprocessing import LabelEncoder\n",
    "\n",
    "\n",
    "from keras import backend as K\n",
    "from keras.models import Sequential\n",
    "from keras.layers import Dense\n",
    "from tensorflow.keras.optimizers import Adam\n",
    "from tensorflow.keras.utils import to_categorical\n",
    "\n",
    "from keras.layers import Dropout, Flatten,Activation\n",
    "from keras.layers import Conv2D\n",
    "\n",
    "from keras.layers import MaxPooling2D\n",
    "import matplotlib.pyplot as plt\n",
    "import seaborn as sns\n",
    "from sklearn import metrics\n"
   ]
  },
  {
   "cell_type": "markdown",
   "id": "0dd75597",
   "metadata": {
    "papermill": {
     "duration": 0.016537,
     "end_time": "2022-02-07T02:54:04.024746",
     "exception": false,
     "start_time": "2022-02-07T02:54:04.008209",
     "status": "completed"
    },
    "tags": []
   },
   "source": [
    "# Checking the data folders<span id=\"2\"></span>"
   ]
  },
  {
   "cell_type": "markdown",
   "id": "a0f17bf5",
   "metadata": {
    "papermill": {
     "duration": 0.016221,
     "end_time": "2022-02-07T02:54:04.057905",
     "exception": false,
     "start_time": "2022-02-07T02:54:04.041684",
     "status": "completed"
    },
    "tags": []
   },
   "source": [
    "#### Create the path as the variable and run a loop for all the folders. Create a dictionary of the paths with keyt as the labels and cionvert it to pandas dataframe"
   ]
  },
  {
   "cell_type": "code",
   "execution_count": 3,
   "id": "80d9948a",
   "metadata": {
    "execution": {
     "iopub.execute_input": "2022-02-07T02:54:04.097030Z",
     "iopub.status.busy": "2022-02-07T02:54:04.096511Z",
     "iopub.status.idle": "2022-02-07T02:55:34.977821Z",
     "shell.execute_reply": "2022-02-07T02:55:34.978581Z",
     "shell.execute_reply.started": "2022-01-31T23:49:57.885026Z"
    },
    "papermill": {
     "duration": 90.904091,
     "end_time": "2022-02-07T02:55:34.978807",
     "exception": false,
     "start_time": "2022-02-07T02:54:04.074716",
     "status": "completed"
    },
    "tags": []
   },
   "outputs": [
    {
     "data": {
      "text/html": [
       "<div>\n",
       "<style scoped>\n",
       "    .dataframe tbody tr th:only-of-type {\n",
       "        vertical-align: middle;\n",
       "    }\n",
       "\n",
       "    .dataframe tbody tr th {\n",
       "        vertical-align: top;\n",
       "    }\n",
       "\n",
       "    .dataframe thead th {\n",
       "        text-align: right;\n",
       "    }\n",
       "</style>\n",
       "<table border=\"1\" class=\"dataframe\">\n",
       "  <thead>\n",
       "    <tr style=\"text-align: right;\">\n",
       "      <th></th>\n",
       "      <th>label</th>\n",
       "      <th>path</th>\n",
       "    </tr>\n",
       "  </thead>\n",
       "  <tbody>\n",
       "    <tr>\n",
       "      <th>0</th>\n",
       "      <td>N</td>\n",
       "      <td>/kaggle/input/asl-alphabet/asl_alphabet_train/...</td>\n",
       "    </tr>\n",
       "    <tr>\n",
       "      <th>1</th>\n",
       "      <td>N</td>\n",
       "      <td>/kaggle/input/asl-alphabet/asl_alphabet_train/...</td>\n",
       "    </tr>\n",
       "    <tr>\n",
       "      <th>2</th>\n",
       "      <td>N</td>\n",
       "      <td>/kaggle/input/asl-alphabet/asl_alphabet_train/...</td>\n",
       "    </tr>\n",
       "    <tr>\n",
       "      <th>3</th>\n",
       "      <td>N</td>\n",
       "      <td>/kaggle/input/asl-alphabet/asl_alphabet_train/...</td>\n",
       "    </tr>\n",
       "    <tr>\n",
       "      <th>4</th>\n",
       "      <td>N</td>\n",
       "      <td>/kaggle/input/asl-alphabet/asl_alphabet_train/...</td>\n",
       "    </tr>\n",
       "    <tr>\n",
       "      <th>...</th>\n",
       "      <td>...</td>\n",
       "      <td>...</td>\n",
       "    </tr>\n",
       "    <tr>\n",
       "      <th>86995</th>\n",
       "      <td>J</td>\n",
       "      <td>/kaggle/input/asl-alphabet/asl_alphabet_train/...</td>\n",
       "    </tr>\n",
       "    <tr>\n",
       "      <th>86996</th>\n",
       "      <td>J</td>\n",
       "      <td>/kaggle/input/asl-alphabet/asl_alphabet_train/...</td>\n",
       "    </tr>\n",
       "    <tr>\n",
       "      <th>86997</th>\n",
       "      <td>J</td>\n",
       "      <td>/kaggle/input/asl-alphabet/asl_alphabet_train/...</td>\n",
       "    </tr>\n",
       "    <tr>\n",
       "      <th>86998</th>\n",
       "      <td>J</td>\n",
       "      <td>/kaggle/input/asl-alphabet/asl_alphabet_train/...</td>\n",
       "    </tr>\n",
       "    <tr>\n",
       "      <th>86999</th>\n",
       "      <td>J</td>\n",
       "      <td>/kaggle/input/asl-alphabet/asl_alphabet_train/...</td>\n",
       "    </tr>\n",
       "  </tbody>\n",
       "</table>\n",
       "<p>87000 rows × 2 columns</p>\n",
       "</div>"
      ],
      "text/plain": [
       "      label                                               path\n",
       "0         N  /kaggle/input/asl-alphabet/asl_alphabet_train/...\n",
       "1         N  /kaggle/input/asl-alphabet/asl_alphabet_train/...\n",
       "2         N  /kaggle/input/asl-alphabet/asl_alphabet_train/...\n",
       "3         N  /kaggle/input/asl-alphabet/asl_alphabet_train/...\n",
       "4         N  /kaggle/input/asl-alphabet/asl_alphabet_train/...\n",
       "...     ...                                                ...\n",
       "86995     J  /kaggle/input/asl-alphabet/asl_alphabet_train/...\n",
       "86996     J  /kaggle/input/asl-alphabet/asl_alphabet_train/...\n",
       "86997     J  /kaggle/input/asl-alphabet/asl_alphabet_train/...\n",
       "86998     J  /kaggle/input/asl-alphabet/asl_alphabet_train/...\n",
       "86999     J  /kaggle/input/asl-alphabet/asl_alphabet_train/...\n",
       "\n",
       "[87000 rows x 2 columns]"
      ]
     },
     "execution_count": 3,
     "metadata": {},
     "output_type": "execute_result"
    }
   ],
   "source": [
    "train_folder = '/kaggle/input/asl-alphabet/asl_alphabet_train/asl_alphabet_train'\n",
    "all_data = []\n",
    "for folder in os.listdir(train_folder):\n",
    "    \n",
    "    label_folder = os.path.join(train_folder, folder)\n",
    "    onlyfiles = [{'label':folder,'path':os.path.join(label_folder, f)} for f in os.listdir(label_folder) if os.path.isfile(os.path.join(label_folder, f))]\n",
    "    #print(onlyfiles)\n",
    "    all_data += onlyfiles\n",
    "data_df = pd.DataFrame(all_data)\n",
    "data_df\n",
    "\n",
    "\n",
    "        "
   ]
  },
  {
   "cell_type": "markdown",
   "id": "db71180b",
   "metadata": {
    "papermill": {
     "duration": 0.044839,
     "end_time": "2022-02-07T02:55:35.061291",
     "exception": false,
     "start_time": "2022-02-07T02:55:35.016452",
     "status": "completed"
    },
    "tags": []
   },
   "source": [
    "#### Create a holdout and validation subset from the data. Holdout will be used at the end to evaluate our model. Validation will be used to find the optimum accuracy."
   ]
  },
  {
   "cell_type": "code",
   "execution_count": 4,
   "id": "29b994fe",
   "metadata": {
    "execution": {
     "iopub.execute_input": "2022-02-07T02:55:35.166744Z",
     "iopub.status.busy": "2022-02-07T02:55:35.165078Z",
     "iopub.status.idle": "2022-02-07T02:55:36.475675Z",
     "shell.execute_reply": "2022-02-07T02:55:36.475197Z",
     "shell.execute_reply.started": "2022-01-31T23:50:29.456272Z"
    },
    "papermill": {
     "duration": 1.374695,
     "end_time": "2022-02-07T02:55:36.475801",
     "exception": false,
     "start_time": "2022-02-07T02:55:35.101106",
     "status": "completed"
    },
    "tags": []
   },
   "outputs": [],
   "source": [
    "x_train,x_holdout = train_test_split(data_df, test_size= 0.10, random_state=42,stratify=data_df[['label']])\n",
    "x_train,x_test = train_test_split(x_train, test_size= 0.25, random_state=42,stratify=x_train[['label']])"
   ]
  },
  {
   "cell_type": "markdown",
   "id": "424e3c59",
   "metadata": {
    "papermill": {
     "duration": 0.016651,
     "end_time": "2022-02-07T02:55:36.509485",
     "exception": false,
     "start_time": "2022-02-07T02:55:36.492834",
     "status": "completed"
    },
    "tags": []
   },
   "source": [
    "# Image Extraction<span id=\"3\"></span>"
   ]
  },
  {
   "cell_type": "markdown",
   "id": "043090be",
   "metadata": {
    "papermill": {
     "duration": 0.016823,
     "end_time": "2022-02-07T02:55:36.543474",
     "exception": false,
     "start_time": "2022-02-07T02:55:36.526651",
     "status": "completed"
    },
    "tags": []
   },
   "source": [
    "#### We fix the image height and width and rescale the images. \"Flow_from_Dataframe\"loads the image dataset in memory and generates batches of augmented data. We create such batches for trainning, validation and holdout data."
   ]
  },
  {
   "cell_type": "code",
   "execution_count": 5,
   "id": "fd227dfe",
   "metadata": {
    "execution": {
     "iopub.execute_input": "2022-02-07T02:55:36.591357Z",
     "iopub.status.busy": "2022-02-07T02:55:36.590530Z",
     "iopub.status.idle": "2022-02-07T02:56:28.656711Z",
     "shell.execute_reply": "2022-02-07T02:56:28.657220Z",
     "shell.execute_reply.started": "2022-01-31T23:50:30.228259Z"
    },
    "papermill": {
     "duration": 52.096794,
     "end_time": "2022-02-07T02:56:28.657383",
     "exception": false,
     "start_time": "2022-02-07T02:55:36.560589",
     "status": "completed"
    },
    "tags": []
   },
   "outputs": [
    {
     "name": "stdout",
     "output_type": "stream",
     "text": [
      "Found 58725 validated image filenames belonging to 29 classes.\n",
      "Found 19575 validated image filenames belonging to 29 classes.\n",
      "Found 8700 validated image filenames belonging to 29 classes.\n"
     ]
    }
   ],
   "source": [
    "img_width, img_height = 64, 64\n",
    "batch_size = 256\n",
    "y_col = 'label'\n",
    "x_col = 'path'\n",
    "no_of_classes = len(data_df[y_col].unique())\n",
    "\n",
    "\n",
    "train_datagen = ImageDataGenerator(rescale = 1/255.0)\n",
    "\n",
    "train_generator = train_datagen.flow_from_dataframe(\n",
    "    dataframe=x_train,x_col=x_col, y_col=y_col,\n",
    "    target_size=(img_width, img_height),class_mode='categorical', batch_size=batch_size,\n",
    "    shuffle=False,\n",
    ")\n",
    "\n",
    "validation_datagen = ImageDataGenerator(rescale = 1/255.0)\n",
    "validation_generator = validation_datagen.flow_from_dataframe(\n",
    "    dataframe=x_test, x_col=x_col, y_col=y_col,\n",
    "    target_size=(img_width, img_height), class_mode='categorical', batch_size=batch_size,\n",
    "    shuffle=False\n",
    ")\n",
    "\n",
    "holdout_datagen = ImageDataGenerator(rescale = 1/255.0)\n",
    "holdout_generator = holdout_datagen.flow_from_dataframe(\n",
    "    dataframe=x_holdout, x_col=x_col, y_col=y_col,\n",
    "    target_size=(img_width, img_height), class_mode='categorical', batch_size=batch_size,\n",
    "    shuffle=False\n",
    ")"
   ]
  },
  {
   "cell_type": "markdown",
   "id": "3d3f65ae",
   "metadata": {
    "papermill": {
     "duration": 0.017579,
     "end_time": "2022-02-07T02:56:28.692777",
     "exception": false,
     "start_time": "2022-02-07T02:56:28.675198",
     "status": "completed"
    },
    "tags": []
   },
   "source": [
    "# Model creation<span id=\"4\"></span>"
   ]
  },
  {
   "cell_type": "markdown",
   "id": "41d4b924",
   "metadata": {
    "papermill": {
     "duration": 0.018593,
     "end_time": "2022-02-07T02:56:28.730074",
     "exception": false,
     "start_time": "2022-02-07T02:56:28.711481",
     "status": "completed"
    },
    "tags": []
   },
   "source": [
    "#### Using a basic convolution neural network, we create a basic model to recognise the sign language."
   ]
  },
  {
   "cell_type": "code",
   "execution_count": 6,
   "id": "3991b0f7",
   "metadata": {
    "execution": {
     "iopub.execute_input": "2022-02-07T02:56:28.783007Z",
     "iopub.status.busy": "2022-02-07T02:56:28.782465Z",
     "iopub.status.idle": "2022-02-07T02:56:31.274223Z",
     "shell.execute_reply": "2022-02-07T02:56:31.274724Z",
     "shell.execute_reply.started": "2022-01-31T23:51:00.931743Z"
    },
    "papermill": {
     "duration": 2.525893,
     "end_time": "2022-02-07T02:56:31.274888",
     "exception": false,
     "start_time": "2022-02-07T02:56:28.748995",
     "status": "completed"
    },
    "tags": []
   },
   "outputs": [
    {
     "name": "stderr",
     "output_type": "stream",
     "text": [
      "2022-02-07 02:56:28.855317: I tensorflow/stream_executor/cuda/cuda_gpu_executor.cc:937] successful NUMA node read from SysFS had negative value (-1), but there must be at least one NUMA node, so returning NUMA node zero\n",
      "2022-02-07 02:56:28.942557: I tensorflow/stream_executor/cuda/cuda_gpu_executor.cc:937] successful NUMA node read from SysFS had negative value (-1), but there must be at least one NUMA node, so returning NUMA node zero\n",
      "2022-02-07 02:56:28.943287: I tensorflow/stream_executor/cuda/cuda_gpu_executor.cc:937] successful NUMA node read from SysFS had negative value (-1), but there must be at least one NUMA node, so returning NUMA node zero\n",
      "2022-02-07 02:56:28.945113: I tensorflow/core/platform/cpu_feature_guard.cc:142] This TensorFlow binary is optimized with oneAPI Deep Neural Network Library (oneDNN) to use the following CPU instructions in performance-critical operations:  AVX2 AVX512F FMA\n",
      "To enable them in other operations, rebuild TensorFlow with the appropriate compiler flags.\n",
      "2022-02-07 02:56:28.946254: I tensorflow/stream_executor/cuda/cuda_gpu_executor.cc:937] successful NUMA node read from SysFS had negative value (-1), but there must be at least one NUMA node, so returning NUMA node zero\n",
      "2022-02-07 02:56:28.946925: I tensorflow/stream_executor/cuda/cuda_gpu_executor.cc:937] successful NUMA node read from SysFS had negative value (-1), but there must be at least one NUMA node, so returning NUMA node zero\n",
      "2022-02-07 02:56:28.947549: I tensorflow/stream_executor/cuda/cuda_gpu_executor.cc:937] successful NUMA node read from SysFS had negative value (-1), but there must be at least one NUMA node, so returning NUMA node zero\n",
      "2022-02-07 02:56:30.848200: I tensorflow/stream_executor/cuda/cuda_gpu_executor.cc:937] successful NUMA node read from SysFS had negative value (-1), but there must be at least one NUMA node, so returning NUMA node zero\n",
      "2022-02-07 02:56:30.849084: I tensorflow/stream_executor/cuda/cuda_gpu_executor.cc:937] successful NUMA node read from SysFS had negative value (-1), but there must be at least one NUMA node, so returning NUMA node zero\n",
      "2022-02-07 02:56:30.849814: I tensorflow/stream_executor/cuda/cuda_gpu_executor.cc:937] successful NUMA node read from SysFS had negative value (-1), but there must be at least one NUMA node, so returning NUMA node zero\n",
      "2022-02-07 02:56:30.850431: I tensorflow/core/common_runtime/gpu/gpu_device.cc:1510] Created device /job:localhost/replica:0/task:0/device:GPU:0 with 15403 MB memory:  -> device: 0, name: Tesla P100-PCIE-16GB, pci bus id: 0000:00:04.0, compute capability: 6.0\n"
     ]
    }
   ],
   "source": [
    "model = Sequential()\n",
    "\n",
    "model.add(Conv2D(filters = 32, kernel_size = (5,5),padding = 'Same',activation ='relu', input_shape = (64,64,3)))\n",
    "model.add(MaxPooling2D(pool_size = (2,2), strides = (2,2)))\n",
    "model.add(Dropout(0.3))\n",
    "\n",
    "model.add(Conv2D(filters = 64, kernel_size = (5,5),padding = 'Same',activation ='relu', input_shape = (150,150,3)))\n",
    "model.add(MaxPooling2D(pool_size = (2,2), strides = (2,2)))\n",
    "model.add(Dropout(0.3))\n",
    "\n",
    "model.add(Conv2D(filters = 64, kernel_size = (5,5),padding = 'Same',activation ='relu', input_shape = (150,150,3)))\n",
    "model.add(MaxPooling2D(pool_size = (2,2), strides = (2,2)))\n",
    "model.add(Dropout(0.3))\n",
    "\n",
    "model.add(Conv2D(filters = 128, kernel_size = (5,5),padding = 'Same',activation ='relu', input_shape = (150,150,3)))\n",
    "model.add(MaxPooling2D(pool_size = (2,2), strides = (2,2)))\n",
    "\n",
    "model.add(Flatten())\n",
    "model.add(Dense(256))\n",
    "model.add(Activation('relu'))\n",
    "model.add(Dense(29, activation = \"softmax\"))"
   ]
  },
  {
   "cell_type": "markdown",
   "id": "43ec9de1",
   "metadata": {
    "papermill": {
     "duration": 0.019059,
     "end_time": "2022-02-07T02:56:31.313640",
     "exception": false,
     "start_time": "2022-02-07T02:56:31.294581",
     "status": "completed"
    },
    "tags": []
   },
   "source": [
    "#### Compling the model with \"Adam\" as the optimizer and \"categorical_crossentropy\" as the loss. we get around 900k parameters for the model to get trained on."
   ]
  },
  {
   "cell_type": "code",
   "execution_count": 7,
   "id": "b917f515",
   "metadata": {
    "execution": {
     "iopub.execute_input": "2022-02-07T02:56:31.357711Z",
     "iopub.status.busy": "2022-02-07T02:56:31.356949Z",
     "iopub.status.idle": "2022-02-07T02:56:31.372437Z",
     "shell.execute_reply": "2022-02-07T02:56:31.372841Z",
     "shell.execute_reply.started": "2022-01-31T23:51:03.31632Z"
    },
    "papermill": {
     "duration": 0.04074,
     "end_time": "2022-02-07T02:56:31.372979",
     "exception": false,
     "start_time": "2022-02-07T02:56:31.332239",
     "status": "completed"
    },
    "tags": []
   },
   "outputs": [
    {
     "name": "stdout",
     "output_type": "stream",
     "text": [
      "Model: \"sequential\"\n",
      "_________________________________________________________________\n",
      "Layer (type)                 Output Shape              Param #   \n",
      "=================================================================\n",
      "conv2d (Conv2D)              (None, 64, 64, 32)        2432      \n",
      "_________________________________________________________________\n",
      "max_pooling2d (MaxPooling2D) (None, 32, 32, 32)        0         \n",
      "_________________________________________________________________\n",
      "dropout (Dropout)            (None, 32, 32, 32)        0         \n",
      "_________________________________________________________________\n",
      "conv2d_1 (Conv2D)            (None, 32, 32, 64)        51264     \n",
      "_________________________________________________________________\n",
      "max_pooling2d_1 (MaxPooling2 (None, 16, 16, 64)        0         \n",
      "_________________________________________________________________\n",
      "dropout_1 (Dropout)          (None, 16, 16, 64)        0         \n",
      "_________________________________________________________________\n",
      "conv2d_2 (Conv2D)            (None, 16, 16, 64)        102464    \n",
      "_________________________________________________________________\n",
      "max_pooling2d_2 (MaxPooling2 (None, 8, 8, 64)          0         \n",
      "_________________________________________________________________\n",
      "dropout_2 (Dropout)          (None, 8, 8, 64)          0         \n",
      "_________________________________________________________________\n",
      "conv2d_3 (Conv2D)            (None, 8, 8, 128)         204928    \n",
      "_________________________________________________________________\n",
      "max_pooling2d_3 (MaxPooling2 (None, 4, 4, 128)         0         \n",
      "_________________________________________________________________\n",
      "flatten (Flatten)            (None, 2048)              0         \n",
      "_________________________________________________________________\n",
      "dense (Dense)                (None, 256)               524544    \n",
      "_________________________________________________________________\n",
      "activation (Activation)      (None, 256)               0         \n",
      "_________________________________________________________________\n",
      "dense_1 (Dense)              (None, 29)                7453      \n",
      "=================================================================\n",
      "Total params: 893,085\n",
      "Trainable params: 893,085\n",
      "Non-trainable params: 0\n",
      "_________________________________________________________________\n"
     ]
    }
   ],
   "source": [
    "model.compile(optimizer=Adam(learning_rate=0.001),loss='categorical_crossentropy',metrics=['accuracy'])\n",
    "model.summary()"
   ]
  },
  {
   "cell_type": "markdown",
   "id": "d9e3018e",
   "metadata": {
    "papermill": {
     "duration": 0.018336,
     "end_time": "2022-02-07T02:56:31.410028",
     "exception": false,
     "start_time": "2022-02-07T02:56:31.391692",
     "status": "completed"
    },
    "tags": []
   },
   "source": [
    "#### We assign an early stop when the model doesn't provide better results for 5 times continuosly. Assign the batch size as 128 and epochs as 10. Finally we fit the model and train it"
   ]
  },
  {
   "cell_type": "code",
   "execution_count": 8,
   "id": "97b3cee3",
   "metadata": {
    "execution": {
     "iopub.execute_input": "2022-02-07T02:56:31.452593Z",
     "iopub.status.busy": "2022-02-07T02:56:31.452014Z",
     "iopub.status.idle": "2022-02-07T03:33:43.000517Z",
     "shell.execute_reply": "2022-02-07T03:33:43.001860Z",
     "shell.execute_reply.started": "2022-01-31T23:51:03.337078Z"
    },
    "papermill": {
     "duration": 2231.573622,
     "end_time": "2022-02-07T03:33:43.002061",
     "exception": false,
     "start_time": "2022-02-07T02:56:31.428439",
     "status": "completed"
    },
    "tags": []
   },
   "outputs": [
    {
     "name": "stderr",
     "output_type": "stream",
     "text": [
      "2022-02-07 02:56:33.971927: I tensorflow/compiler/mlir/mlir_graph_optimization_pass.cc:185] None of the MLIR Optimization Passes are enabled (registered 2)\n"
     ]
    },
    {
     "name": "stdout",
     "output_type": "stream",
     "text": [
      "Epoch 1/10\n"
     ]
    },
    {
     "name": "stderr",
     "output_type": "stream",
     "text": [
      "2022-02-07 02:56:37.146650: I tensorflow/stream_executor/cuda/cuda_dnn.cc:369] Loaded cuDNN version 8005\n"
     ]
    },
    {
     "name": "stdout",
     "output_type": "stream",
     "text": [
      "230/230 [==============================] - 524s 2s/step - loss: 2.1631 - accuracy: 0.3511 - val_loss: 0.6680 - val_accuracy: 0.7815\n",
      "Epoch 2/10\n",
      "230/230 [==============================] - 134s 583ms/step - loss: 0.4191 - accuracy: 0.8550 - val_loss: 0.1736 - val_accuracy: 0.9441\n",
      "Epoch 3/10\n",
      "230/230 [==============================] - 144s 625ms/step - loss: 0.1636 - accuracy: 0.9427 - val_loss: 0.0690 - val_accuracy: 0.9804\n",
      "Epoch 4/10\n",
      "230/230 [==============================] - 154s 671ms/step - loss: 0.1004 - accuracy: 0.9656 - val_loss: 0.0435 - val_accuracy: 0.9860\n",
      "Epoch 5/10\n",
      "230/230 [==============================] - 157s 685ms/step - loss: 0.0727 - accuracy: 0.9746 - val_loss: 0.0248 - val_accuracy: 0.9927\n",
      "Epoch 6/10\n",
      "230/230 [==============================] - 157s 682ms/step - loss: 0.0602 - accuracy: 0.9795 - val_loss: 0.0153 - val_accuracy: 0.9954\n",
      "Epoch 7/10\n",
      "230/230 [==============================] - 159s 691ms/step - loss: 0.0470 - accuracy: 0.9847 - val_loss: 0.0131 - val_accuracy: 0.9969\n",
      "Epoch 8/10\n",
      "230/230 [==============================] - 151s 658ms/step - loss: 0.0383 - accuracy: 0.9876 - val_loss: 0.0104 - val_accuracy: 0.9977\n",
      "Epoch 9/10\n",
      "230/230 [==============================] - 159s 691ms/step - loss: 0.0315 - accuracy: 0.9897 - val_loss: 0.0121 - val_accuracy: 0.9957\n",
      "Epoch 10/10\n",
      "230/230 [==============================] - 158s 686ms/step - loss: 0.0274 - accuracy: 0.9911 - val_loss: 0.0155 - val_accuracy: 0.9947\n"
     ]
    }
   ],
   "source": [
    "from tensorflow.keras.callbacks import EarlyStopping, ModelCheckpoint\n",
    "early_stop = EarlyStopping(monitor='val_loss',patience=5)\n",
    "\n",
    "batch_size=128\n",
    "epochs=10\n",
    "\n",
    "history = model.fit(train_generator,\n",
    "                    epochs=epochs,\n",
    "                    verbose=1,\n",
    "                    validation_data=validation_generator,\n",
    "                    callbacks = [early_stop])"
   ]
  },
  {
   "cell_type": "markdown",
   "id": "1b356b92",
   "metadata": {
    "papermill": {
     "duration": 0.657847,
     "end_time": "2022-02-07T03:33:44.524866",
     "exception": false,
     "start_time": "2022-02-07T03:33:43.867019",
     "status": "completed"
    },
    "tags": []
   },
   "source": [
    "# Validation and Training accuracy plot<span id=\"5\"></span>"
   ]
  },
  {
   "cell_type": "code",
   "execution_count": 9,
   "id": "fb7f01e2",
   "metadata": {
    "execution": {
     "iopub.execute_input": "2022-02-07T03:33:45.849417Z",
     "iopub.status.busy": "2022-02-07T03:33:45.848547Z",
     "iopub.status.idle": "2022-02-07T03:33:46.056749Z",
     "shell.execute_reply": "2022-02-07T03:33:46.057291Z",
     "shell.execute_reply.started": "2022-02-01T00:12:22.004635Z"
    },
    "papermill": {
     "duration": 0.880531,
     "end_time": "2022-02-07T03:33:46.057452",
     "exception": false,
     "start_time": "2022-02-07T03:33:45.176921",
     "status": "completed"
    },
    "tags": []
   },
   "outputs": [
    {
     "data": {
      "image/png": "[encoded data removed]",
      "text/plain": [
       "<Figure size 1008x504 with 1 Axes>"
      ]
     },
     "metadata": {
      "needs_background": "light"
     },
     "output_type": "display_data"
    }
   ],
   "source": [
    "acc=history.history['accuracy']\n",
    "val_acc=history.history['val_accuracy']\n",
    "loss=history.history['loss']\n",
    "val_loss=history.history['val_loss']\n",
    "\n",
    "epochs=range(len(acc))\n",
    "\n",
    "fig = plt.figure(figsize=(14,7))\n",
    "plt.plot(epochs, acc, 'r', label=\"Training Accuracy\")\n",
    "plt.plot(epochs, val_acc, 'b', label=\"Validation Accuracy\")\n",
    "plt.xlabel('Epoch')\n",
    "plt.ylabel('Accuracy')\n",
    "plt.title('Training and validation accuracy')\n",
    "plt.legend(loc='lower right')\n",
    "plt.show()"
   ]
  },
  {
   "cell_type": "markdown",
   "id": "5c051882",
   "metadata": {
    "papermill": {
     "duration": 0.843056,
     "end_time": "2022-02-07T03:33:47.744470",
     "exception": false,
     "start_time": "2022-02-07T03:33:46.901414",
     "status": "completed"
    },
    "tags": []
   },
   "source": [
    "# Validation and Training loss plot<span id=\"6\"></span>"
   ]
  },
  {
   "cell_type": "code",
   "execution_count": 10,
   "id": "f20446d4",
   "metadata": {
    "execution": {
     "iopub.execute_input": "2022-02-07T03:33:49.019442Z",
     "iopub.status.busy": "2022-02-07T03:33:49.018785Z",
     "iopub.status.idle": "2022-02-07T03:33:49.219995Z",
     "shell.execute_reply": "2022-02-07T03:33:49.220394Z",
     "shell.execute_reply.started": "2022-02-01T00:12:22.36982Z"
    },
    "papermill": {
     "duration": 0.841349,
     "end_time": "2022-02-07T03:33:49.220543",
     "exception": false,
     "start_time": "2022-02-07T03:33:48.379194",
     "status": "completed"
    },
    "tags": []
   },
   "outputs": [
    {
     "data": {
      "text/plain": [
       "Text(0.5, 1.0, 'Training and validation loss')"
      ]
     },
     "execution_count": 10,
     "metadata": {},
     "output_type": "execute_result"
    },
    {
     "data": {
      "image/png": "[encoded data removed]",
      "text/plain": [
       "<Figure size 1008x504 with 1 Axes>"
      ]
     },
     "metadata": {
      "needs_background": "light"
     },
     "output_type": "display_data"
    }
   ],
   "source": [
    "fig = plt.figure(figsize=(14,7))\n",
    "plt.plot(epochs, loss, 'r', label=\"Training Loss\")\n",
    "plt.plot(epochs, val_loss, 'b', label=\"Validation Loss\")\n",
    "plt.legend(loc='upper right')\n",
    "plt.xlabel('Epoch')\n",
    "plt.ylabel('Loss')\n",
    "plt.title('Training and validation loss')"
   ]
  },
  {
   "cell_type": "markdown",
   "id": "80a0e3f2",
   "metadata": {
    "papermill": {
     "duration": 0.627954,
     "end_time": "2022-02-07T03:33:50.471476",
     "exception": false,
     "start_time": "2022-02-07T03:33:49.843522",
     "status": "completed"
    },
    "tags": []
   },
   "source": [
    "# Prediction<span id=\"7\"></span>"
   ]
  },
  {
   "cell_type": "markdown",
   "id": "f8188ca7",
   "metadata": {
    "papermill": {
     "duration": 0.613046,
     "end_time": "2022-02-07T03:33:51.714814",
     "exception": false,
     "start_time": "2022-02-07T03:33:51.101768",
     "status": "completed"
    },
    "tags": []
   },
   "source": [
    "#### Finally predicting and checking the accuracy from the holdout data."
   ]
  },
  {
   "cell_type": "code",
   "execution_count": 11,
   "id": "5abe9cff",
   "metadata": {
    "execution": {
     "iopub.execute_input": "2022-02-07T03:33:52.968116Z",
     "iopub.status.busy": "2022-02-07T03:33:52.967339Z",
     "iopub.status.idle": "2022-02-07T03:34:51.980732Z",
     "shell.execute_reply": "2022-02-07T03:34:51.981102Z",
     "shell.execute_reply.started": "2022-02-01T00:12:22.69036Z"
    },
    "papermill": {
     "duration": 59.650155,
     "end_time": "2022-02-07T03:34:51.981285",
     "exception": false,
     "start_time": "2022-02-07T03:33:52.331130",
     "status": "completed"
    },
    "tags": []
   },
   "outputs": [
    {
     "name": "stdout",
     "output_type": "stream",
     "text": [
      "34/34 [==============================] - 57s 2s/step\n",
      "              precision    recall  f1-score   support\n",
      "\n",
      "           A       1.00      0.98      0.99       300\n",
      "           B       1.00      1.00      1.00       300\n",
      "           C       1.00      1.00      1.00       300\n",
      "           D       0.98      1.00      0.99       300\n",
      "           E       1.00      0.98      0.99       300\n",
      "           F       1.00      1.00      1.00       300\n",
      "           G       1.00      1.00      1.00       300\n",
      "           H       1.00      1.00      1.00       300\n",
      "           I       1.00      1.00      1.00       300\n",
      "           J       1.00      1.00      1.00       300\n",
      "           K       1.00      0.99      0.99       300\n",
      "           L       1.00      1.00      1.00       300\n",
      "           M       0.99      1.00      1.00       300\n",
      "           N       1.00      1.00      1.00       300\n",
      "           O       1.00      1.00      1.00       300\n",
      "           P       1.00      1.00      1.00       300\n",
      "           Q       1.00      1.00      1.00       300\n",
      "           R       0.99      1.00      0.99       300\n",
      "           S       0.99      1.00      0.99       300\n",
      "           T       1.00      1.00      1.00       300\n",
      "           U       0.96      1.00      0.98       300\n",
      "           V       1.00      0.96      0.98       300\n",
      "           W       1.00      1.00      1.00       300\n",
      "           X       1.00      1.00      1.00       300\n",
      "           Y       1.00      1.00      1.00       300\n",
      "           Z       1.00      1.00      1.00       300\n",
      "         del       1.00      1.00      1.00       300\n",
      "     nothing       1.00      1.00      1.00       300\n",
      "       space       1.00      1.00      1.00       300\n",
      "\n",
      "    accuracy                           1.00      8700\n",
      "   macro avg       1.00      1.00      1.00      8700\n",
      "weighted avg       1.00      1.00      1.00      8700\n",
      "\n"
     ]
    }
   ],
   "source": [
    "predictions = model.predict(holdout_generator, verbose=1)\n",
    "# Get most likely class\n",
    "predicted_classes = np.argmax(predictions, axis=-1)\n",
    "predictions = np.argmax(predictions, axis=-1) #multiple categories\n",
    "\n",
    "true_classes = holdout_generator.classes\n",
    "class_labels = list(holdout_generator.class_indices.keys())  \n",
    "report = metrics.classification_report(true_classes, predicted_classes, target_names=class_labels)\n",
    "print(report)"
   ]
  },
  {
   "cell_type": "markdown",
   "id": "f33141a6",
   "metadata": {
    "papermill": {
     "duration": 0.633746,
     "end_time": "2022-02-07T03:34:53.252585",
     "exception": false,
     "start_time": "2022-02-07T03:34:52.618839",
     "status": "completed"
    },
    "tags": []
   },
   "source": [
    "#### Creating a visual to see if there are any misclassifications"
   ]
  },
  {
   "cell_type": "code",
   "execution_count": 12,
   "id": "806ed3f9",
   "metadata": {
    "execution": {
     "iopub.execute_input": "2022-02-07T03:34:54.513437Z",
     "iopub.status.busy": "2022-02-07T03:34:54.512692Z",
     "iopub.status.idle": "2022-02-07T03:34:55.176176Z",
     "shell.execute_reply": "2022-02-07T03:34:55.175124Z",
     "shell.execute_reply.started": "2022-02-01T00:13:10.407958Z"
    },
    "papermill": {
     "duration": 1.296363,
     "end_time": "2022-02-07T03:34:55.176321",
     "exception": false,
     "start_time": "2022-02-07T03:34:53.879958",
     "status": "completed"
    },
    "tags": []
   },
   "outputs": [
    {
     "data": {
      "image/png": "[encoded data removed]",
      "text/plain": [
       "<Figure size 2160x1440 with 2 Axes>"
      ]
     },
     "metadata": {
      "needs_background": "light"
     },
     "output_type": "display_data"
    }
   ],
   "source": [
    "plt.figure(figsize=(30, 20))\n",
    "\n",
    "ax = sns.heatmap(metrics.confusion_matrix(true_classes,predicted_classes))\n",
    "ax.set_title('Confusion Matrix with labels')\n",
    "ax.set_xlabel('Predicted Values')\n",
    "ax.set_ylabel('Actual Values ')\n",
    "\n",
    "\n",
    "## Ticket labels - List must be in alphabetical order\n",
    "ax.xaxis.set_ticklabels(class_labels)\n",
    "ax.yaxis.set_ticklabels(class_labels)\n",
    "\n",
    "plt.show()"
   ]
  },
  {
   "cell_type": "markdown",
   "id": "db197328",
   "metadata": {
    "papermill": {
     "duration": 0.64677,
     "end_time": "2022-02-07T03:34:56.465719",
     "exception": false,
     "start_time": "2022-02-07T03:34:55.818949",
     "status": "completed"
    },
    "tags": []
   },
   "source": [
    "# Conclusion<span id=\"7\"></span>"
   ]
  },
  {
   "cell_type": "markdown",
   "id": "d8519900",
   "metadata": {
    "papermill": {
     "duration": 0.621001,
     "end_time": "2022-02-07T03:34:57.831397",
     "exception": false,
     "start_time": "2022-02-07T03:34:57.210396",
     "status": "completed"
    },
    "tags": []
   },
   "source": [
    "#### We almost get 99% accuracy on the model. This is partly due to the highly accurate and clear data set that we have. There was not a high variation and the hands/fingers were clearly detected by the model. This resulted in very high accuracy from a fairly simple model. This shows how important the data centric approach is and why we should focus a lot in the clarity of the data."
   ]
  },
  {
   "cell_type": "code",
   "execution_count": 13,
   "id": "b47b9a78",
   "metadata": {
    "execution": {
     "iopub.execute_input": "2022-02-07T03:34:59.116887Z",
     "iopub.status.busy": "2022-02-07T03:34:59.115969Z",
     "iopub.status.idle": "2022-02-07T03:34:59.164419Z",
     "shell.execute_reply": "2022-02-07T03:34:59.163918Z",
     "shell.execute_reply.started": "2022-02-01T00:13:11.024598Z"
    },
    "papermill": {
     "duration": 0.685651,
     "end_time": "2022-02-07T03:34:59.164554",
     "exception": false,
     "start_time": "2022-02-07T03:34:58.478903",
     "status": "completed"
    },
    "tags": []
   },
   "outputs": [],
   "source": [
    "model.save('ASL_classification.h5')"
   ]
  }
 ],
 "metadata": {
  "kernelspec": {
   "display_name": "Python 3",
   "language": "python",
   "name": "python3"
  },
  "language_info": {
   "codemirror_mode": {
    "name": "ipython",
    "version": 3
   },
   "file_extension": ".py",
   "mimetype": "text/x-python",
   "name": "python",
   "nbconvert_exporter": "python",
   "pygments_lexer": "ipython3",
   "version": "3.7.12"
  },
  "papermill": {
   "default_parameters": {},
   "duration": 2542.569948,
   "end_time": "2022-02-07T03:35:02.777365",
   "environment_variables": {},
   "exception": null,
   "input_path": "__notebook__.ipynb",
   "output_path": "__notebook__.ipynb",
   "parameters": {},
   "start_time": "2022-02-07T02:52:40.207417",
   "version": "2.3.3"
  }
 },
 "nbformat": 4,
 "nbformat_minor": 5
}
